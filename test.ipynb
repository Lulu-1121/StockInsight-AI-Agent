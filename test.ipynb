{
 "cells": [
  {
   "cell_type": "code",
   "execution_count": 3,
   "id": "480d744b",
   "metadata": {},
   "outputs": [
    {
     "name": "stdout",
     "output_type": "stream",
     "text": [
      "支持中文的字体列表：\n",
      "1. 名称: SimSong，路径: /System/Library/AssetsV2/com_apple_MobileAsset_Font7/857d6c90171c328a4892c1492291d34e401d7f25.asset/AssetData/SimSong.ttc\n",
      "2. 名称: Kaiti SC，路径: /System/Library/AssetsV2/com_apple_MobileAsset_Font7/54a2ad3dac6cac875ad675d7d273dc425010a877.asset/AssetData/Kaiti.ttc\n",
      "3. 名称: BiauKaiHK，路径: /System/Library/AssetsV2/com_apple_MobileAsset_Font7/584ea2a48d14147049c2f9eaee147fe5a1f279ac.asset/AssetData/BiauKai.ttc\n",
      "4. 名称: Songti SC，路径: /System/Library/Fonts/Supplemental/Songti.ttc\n",
      "5. 名称: Kailasa，路径: /System/Library/Fonts/Supplemental/Kailasa.ttc\n",
      "6. 名称: Heiti TC，路径: /System/Library/Fonts/STHeiti Light.ttc\n",
      "7. 名称: Noto Sans Kaithi，路径: /System/Library/Fonts/Supplemental/NotoSansKaithi-Regular.ttf\n",
      "8. 名称: Heiti TC，路径: /System/Library/Fonts/STHeiti Medium.ttc\n",
      "9. 名称: STHeiti，路径: /System/Library/AssetsV2/com_apple_MobileAsset_Font7/eb257c12d1a51c8c661b89f30eec56cacf9b8987.asset/AssetData/STHEITI.ttf\n",
      "10. 名称: LiSong Pro，路径: /System/Library/AssetsV2/com_apple_MobileAsset_Font7/5a3fc034b64879656271c040cab38b65d4ea6548.asset/AssetData/LiSongPro.ttf\n",
      "11. 名称: STHeiti，路径: /System/Library/AssetsV2/com_apple_MobileAsset_Font7/f0706a236683628e16427c6569e441423faaaa93.asset/AssetData/STXIHEI.ttf\n",
      "12. 名称: Kai，路径: /System/Library/AssetsV2/com_apple_MobileAsset_Font7/28f00a24ba19995bab7249993e6e35d11011074a.asset/AssetData/Kai.ttf\n"
     ]
    }
   ],
   "source": [
    "import matplotlib.font_manager as fm\n",
    "\n",
    "# 获取所有可用字体\n",
    "font_list = fm.fontManager.ttflist\n",
    "\n",
    "# 筛选支持中文的字体（通过名称包含中文或常见中文标识）\n",
    "chinese_fonts = []\n",
    "for font in font_list:\n",
    "    # 检查字体名称是否包含中文字符，或包含常见中文标识\n",
    "    if any('\\u4e00' <= char <= '\\u9fff' for char in font.name) or \\\n",
    "       'Heiti' in font.name or 'Song' in font.name or 'Kai' in font.name or \\\n",
    "       'Microsoft YaHei' in font.name or 'Sim' in font.name or 'Source Han' in font.name:\n",
    "        chinese_fonts.append({\n",
    "            'name': font.name,\n",
    "            'path': font.fname\n",
    "        })\n",
    "\n",
    "# 打印筛选出的中文字体\n",
    "print(\"支持中文的字体列表：\")\n",
    "for i, font in enumerate(chinese_fonts, 1):\n",
    "    print(f\"{i}. 名称: {font['name']}，路径: {font['path']}\")"
   ]
  }
 ],
 "metadata": {
  "kernelspec": {
   "display_name": "venv",
   "language": "python",
   "name": "python3"
  },
  "language_info": {
   "codemirror_mode": {
    "name": "ipython",
    "version": 3
   },
   "file_extension": ".py",
   "mimetype": "text/x-python",
   "name": "python",
   "nbconvert_exporter": "python",
   "pygments_lexer": "ipython3",
   "version": "3.13.0"
  }
 },
 "nbformat": 4,
 "nbformat_minor": 5
}
